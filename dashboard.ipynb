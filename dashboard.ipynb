{
 "cells": [
  {
   "cell_type": "markdown",
   "metadata": {},
   "source": [
    "# San Francisco Rental Prices Dashboard\n",
    "\n",
    "In this notebook, you will compile the visualizations from the previous analysis into functions that can be used for a Panel dashboard."
   ]
  },
  {
   "cell_type": "code",
   "execution_count": null,
   "metadata": {},
   "outputs": [],
   "source": [
    "# initial imports\n",
    "import os\n",
    "import pandas as pd\n",
    "import matplotlib.pyplot as plt\n",
    "import hvplot.pandas\n",
    "import panel as pn\n",
    "import plotly_express as px\n",
    "from pathlib import Path\n",
    "from panel.interact import interact\n",
    "\n",
    "\n",
    "# Initialize the Panel Extensions (for Plotly)\n",
    "pn.extension('plotly')"
   ]
  },
  {
   "cell_type": "code",
   "execution_count": null,
   "metadata": {},
   "outputs": [],
   "source": [
    "# Read the Mapbox API key\n",
    "mapbox_token = os.getenv(\"~~~~~\")"
   ]
  },
  {
   "cell_type": "markdown",
   "metadata": {},
   "source": [
    "# Import Data"
   ]
  },
  {
   "cell_type": "code",
   "execution_count": null,
   "metadata": {},
   "outputs": [],
   "source": [
    "# Import the CSVs to Pandas DataFrames\n",
    "file_path = Path(\"Data/sfo_neighborhoods_census_data.csv\")\n",
    "sfo_data = pd.read_csv(file_path, index_col=\"year\")\n",
    "\n",
    "file_path = Path(\"Data/neighborhoods_coordinates.csv\")\n",
    "df_neighborhood_locations = pd.read_csv(file_path)"
   ]
  },
  {
   "cell_type": "markdown",
   "metadata": {},
   "source": [
    "- - -"
   ]
  },
  {
   "cell_type": "markdown",
   "metadata": {},
   "source": [
    "## Panel Visualizations\n",
    "\n",
    "In this section, you will copy the code for each plot type from your analysis notebook and place it into separate functions that Panel can use to create panes for the dashboard. \n",
    "\n",
    "These functions will convert the plot object to a Panel pane.\n",
    "\n",
    "Be sure to include any DataFrame transformation/manipulation code required along with the plotting code.\n",
    "\n",
    "Return a Panel pane object from each function that can be used to build the dashboard.\n",
    "\n",
    "Note: Remove any `.show()` lines from the code. We want to return the plots instead of showing them. The Panel dashboard will then display the plots."
   ]
  },
  {
   "cell_type": "code",
   "execution_count": null,
   "metadata": {},
   "outputs": [],
   "source": [
    "# Define Panel Visualization Functions\n",
    "def housing_units_per_year():\n",
    "    \"\"\"Housing Units Per Year.\"\"\"\n",
    "    \n",
    "    # YOUR CODE HERE!\n",
    "    sfo_years = sfo_data.groupby(\"year\")\n",
    "    mean_units_per_year = sfo_years[\"housing_units\"].mean()\n",
    "    mean_units_per_year.plot(kind = \"bar\", ylim = (369000, 390000), title = \"Average Housing Units per Year\")\n",
    "\n",
    "    return \n",
    "\n",
    "\n",
    "def average_gross_rent():\n",
    "    \"\"\"Average Gross Rent in San Francisco Per Year.\"\"\"\n",
    "    \n",
    "    # YOUR CODE HERE!\n",
    "    avg_gross_rent = sfo_years[\"gross_rent\"].mean()\n",
    "    avg_sales_price_sqft = sfo_years[\"sale_price_sqr_foot\"].mean()\n",
    "    gross_rent_sale_price = sfo_years[\"sale_price_sqr_foot\", \"gross_rent\"].mean()\n",
    "    avg_gross_rent.plot(title = \"Average Gross Rent Per Year in San Francisco\")\n",
    "\n",
    "    return\n",
    "\n",
    "def average_sales_price():\n",
    "    \"\"\"Average Sales Price Per Year.\"\"\"\n",
    "    \n",
    "    # YOUR CODE HERE!\n",
    "    avg_sales_price_sqft.plot(title = \"Average Sales Price per Square Foot in San Francisco\")\n",
    "\n",
    "    return\n",
    "\n",
    "def average_price_by_neighborhood():\n",
    "    \"\"\"Average Prices by Neighborhood.\"\"\"\n",
    "    \n",
    "    # YOUR CODE HERE!\n",
    "    \n",
    "    year_neighborhood_avgprice = sfo_data.filter([\"year\",\"neighborhood\",\"sale_price_sqr_foot\"]).groupby([sfo_data.index,sfo_data[\"neighborhood\"]]).mean()\n",
    "    year_neighborhood_avgprice.hvplot.line(x=\"year\",y=\"sale_price_sqr_foot\",groupby=\"neighborhood\")\n",
    "\n",
    "    return\n",
    "\n",
    "\n",
    "def top_most_expensive_neighborhoods():\n",
    "    \"\"\"Top 10 Most Expensive Neighborhoods.\"\"\"\n",
    "    \n",
    "    # YOUR CODE HERE!\n",
    "    ten_most_expensive_neighborhoods = sfo_data.filter([\"neighborhood\",\"sale_price_sqr_foot\", \"housing_units\", \"gross_rent\"]).groupby([sfo_data['neighborhood']]).mean()\n",
    "    ten_most_expensive_neighborhoods = ten_most_expensive_neighborhoods.sort_values(by='sale_price_sqr_foot', ascending=False).head(10)\n",
    "    top_ten_chart = ten_most_expensive_neighborhoods.drop([\"housing_units\", \"gross_rent\"], axis = 1)\n",
    "    top_ten_chart.plot.bar(title=\"Ten Most Expensive Neighborhoods in San Francisco\", figsize = (13,6))\n",
    "\n",
    "    return top_most_expensive_neighborhoods\n",
    "\n",
    "def parallel_coordinates():\n",
    "    \"\"\"Parallel Coordinates Plot.\"\"\"\n",
    "    \n",
    "    # YOUR CODE HERE!\n",
    "    sales_price_neighborhood = sfo_data.groupby([sfo_data[\"neighborhood\"]]).mean()\n",
    "    sales_price_neighborhood = sales_price_neighborhood.sort_values(by=\"sale_price_sqr_foot\", ascending=False).head(10)\n",
    "    parallel_coordinates_plot = px.parallel_coordinates(\n",
    "    sales_price_neighborhood,\n",
    "    dimensions=[\"sale_price_sqr_foot\",\"housing_units\",\"gross_rent\"],\n",
    "    color = \"sale_price_sqr_foot\",\n",
    "    color_continuous_scale=px.colors.sequential.Inferno,\n",
    "     labels={\n",
    "        \"sale_price_sqr_foot\": \"Sale Price per Square Foot\",\n",
    "        \"housing_units\": \"Housing Units\",\n",
    "        \"gross_rent\": \"Gross Rent\"    \n",
    "        }\n",
    "    )\n",
    "\n",
    "    return\n",
    "\n",
    "def parallel_categories():\n",
    "    \"\"\"Parallel Categories Plot.\"\"\"\n",
    "    \n",
    "    # YOUR CODE HERE!\n",
    "    parallel_categories_plot = px.parallel_categories(\n",
    "        sales_price_neighborhood.reset_index(),\n",
    "        dimensions=[\"neighborhood\",\"sale_price_sqr_foot\", \"housing_units\", \"gross_rent\"],\n",
    "        color=\"sale_price_sqr_foot\",\n",
    "        color_continuous_scale=px.colors.sequential.Inferno,\n",
    "        labels={\n",
    "            \"neighborhood\": \"Neighborhood\",\n",
    "            \"sale_price_sqr_foot\": \"Sale Price per Square Foot\",\n",
    "            \"housing_units\": \"Housing Units\",\n",
    "            \"gross_rent\": \"Gross Rent\"\n",
    "        }\n",
    "    )\n",
    "    return\n",
    "\n",
    "def neighborhood_map():\n",
    "    \"\"\"Neighborhood Map\"\"\"\n",
    "    \n",
    "    # YOUR CODE HERE!\n",
    "    data_prep_df = sfo_data.groupby([sfo_data[\"neighborhood\"]]).mean()\n",
    "    sfo_price_and_location = pd.concat([data_prep_df, df_neighborhood_locations],axis=1, join=\"inner\")\n",
    "\n",
    "    px.scatter_mapbox(\n",
    "    sfo_price_and_location.reset_index(),\n",
    "    lat=\"Lat\",\n",
    "    lon=\"Lon\",\n",
    "    size=\"sale_price_sqr_foot\",\n",
    "    color=\"gross_rent\",\n",
    "    color_continuous_scale=px.colors.cyclical.IceFire, \n",
    "    zoom=11,\n",
    "    text=\"neighborhood\"\n",
    "    )\n",
    "    return"
   ]
  },
  {
   "cell_type": "markdown",
   "metadata": {},
   "source": [
    "## Panel Dashboard\n",
    "\n",
    "In this section, you will combine all of the plots into a single dashboard view using Panel. Be creative with your dashboard design!"
   ]
  },
  {
   "cell_type": "code",
   "execution_count": null,
   "metadata": {},
   "outputs": [],
   "source": [
    "# YOUR CODE HERE!\n",
    "tabs = pn.Tabs(\n",
    "    (\" 10 Most Expensive Neighborhoods in San Francisco \",top_most_expensive_neighborhoods()),\n",
    "    (\" Top 10 Parallel Coordinates \",housing_units_per_year()),\n",
    "    (\" Top 10 Parallel Categories \",parallel_categories())\n",
    "    (\"Explore the Map\",interact(neighborhood_map,number=30)),\n",
    "    (\"Housing Units per Year\",housing_units_per_year()),\n",
    "    (\"Avarage Gross Rent per Year\",average_gross_rent()),\n",
    "    (\"Avarage Sales Price/Sqft per Year\",average_sales_price())\n",
    "    \n",
    ")"
   ]
  },
  {
   "cell_type": "markdown",
   "metadata": {},
   "source": [
    "## Serve the Panel Dashboard"
   ]
  },
  {
   "cell_type": "code",
   "execution_count": null,
   "metadata": {},
   "outputs": [],
   "source": [
    "panel.servable()"
   ]
  },
  {
   "cell_type": "code",
   "execution_count": null,
   "metadata": {},
   "outputs": [],
   "source": []
  }
 ],
 "metadata": {
  "file_extension": ".py",
  "kernelspec": {
   "display_name": "Python 3",
   "language": "python",
   "name": "python3"
  },
  "language_info": {
   "codemirror_mode": {
    "name": "ipython",
    "version": 3
   },
   "file_extension": ".py",
   "mimetype": "text/x-python",
   "name": "python",
   "nbconvert_exporter": "python",
   "pygments_lexer": "ipython3",
   "version": "3.7.3"
  },
  "mimetype": "text/x-python",
  "name": "python",
  "npconvert_exporter": "python",
  "pygments_lexer": "ipython3",
  "version": 3
 },
 "nbformat": 4,
 "nbformat_minor": 2
}
